{
 "cells": [
  {
   "cell_type": "code",
   "execution_count": 1,
   "id": "f9f42af4-49cb-4114-8be7-badd54e20b7c",
   "metadata": {
    "tags": []
   },
   "outputs": [
    {
     "name": "stderr",
     "output_type": "stream",
     "text": [
      "2023-03-07 15:15:11.292415: I tensorflow/core/platform/cpu_feature_guard.cc:193] This TensorFlow binary is optimized with oneAPI Deep Neural Network Library (oneDNN) to use the following CPU instructions in performance-critical operations:  AVX2 AVX_VNNI FMA\n",
      "To enable them in other operations, rebuild TensorFlow with the appropriate compiler flags.\n",
      "2023-03-07 15:15:11.370464: I tensorflow/core/util/port.cc:104] oneDNN custom operations are on. You may see slightly different numerical results due to floating-point round-off errors from different computation orders. To turn them off, set the environment variable `TF_ENABLE_ONEDNN_OPTS=0`.\n",
      "2023-03-07 15:15:11.373039: W tensorflow/compiler/xla/stream_executor/platform/default/dso_loader.cc:64] Could not load dynamic library 'libcudart.so.11.0'; dlerror: libcudart.so.11.0: cannot open shared object file: No such file or directory\n",
      "2023-03-07 15:15:11.373051: I tensorflow/compiler/xla/stream_executor/cuda/cudart_stub.cc:29] Ignore above cudart dlerror if you do not have a GPU set up on your machine.\n",
      "2023-03-07 15:15:11.727452: W tensorflow/compiler/xla/stream_executor/platform/default/dso_loader.cc:64] Could not load dynamic library 'libnvinfer.so.7'; dlerror: libnvinfer.so.7: cannot open shared object file: No such file or directory\n",
      "2023-03-07 15:15:11.727509: W tensorflow/compiler/xla/stream_executor/platform/default/dso_loader.cc:64] Could not load dynamic library 'libnvinfer_plugin.so.7'; dlerror: libnvinfer_plugin.so.7: cannot open shared object file: No such file or directory\n",
      "2023-03-07 15:15:11.727512: W tensorflow/compiler/tf2tensorrt/utils/py_utils.cc:38] TF-TRT Warning: Cannot dlopen some TensorRT libraries. If you would like to use Nvidia GPU with TensorRT, please make sure the missing libraries mentioned above are installed properly.\n"
     ]
    }
   ],
   "source": [
    "import os \n",
    "import time\n",
    "import pandas as pd\n",
    "\n",
    "\n",
    "import keras \n",
    "import tensorflow as tf\n",
    "from tensorflow.keras import Sequential\n",
    "from tensorflow.keras.layers import LSTM\n",
    "from tensorflow.keras.layers import Dense\n",
    "from tensorflow.keras.layers import BatchNormalization\n",
    "from tensorflow.keras.layers import TimeDistributed\n",
    "from tensorflow.keras.models import Model\n",
    "from tensorflow.keras.layers import Conv2D\n",
    "from tensorflow.keras.layers import Conv2DTransposeb\n",
    "from tensorflow.keras.layers import LeakyReLU\n",
    "from tensorflow.keras.layers import Activation\n",
    "from tensorflow.keras.layers import Flatten\n",
    "from tensorflow.keras.layers import Reshape\n",
    "from tensorflow.keras.layers import Input\n",
    "from keras import layers\n",
    "\n",
    "from tensorflow.keras import backend as K\n",
    "import numpy as np\n",
    "import librosa\n",
    "import matplotlib.pyplot as plt\n",
    "import librosa.display\n",
    "\n",
    "from sklearn.preprocessing import MinMaxScaler\n",
    "from sklearn.metrics import f1_score\n"
   ]
  },
  {
   "cell_type": "code",
   "execution_count": 2,
   "id": "13f720f4-3385-4144-b482-a93896e7c422",
   "metadata": {
    "tags": []
   },
   "outputs": [],
   "source": [
    "# import warnings\n",
    "# warnings.filterwarnings(\"ignore\") "
   ]
  },
  {
   "cell_type": "markdown",
   "id": "6c7b0a6d-6e48-4532-b311-48ca744f4031",
   "metadata": {
    "tags": []
   },
   "source": [
    "# Description des jeux de donnée :\n",
    "**Cas d'étude:** Vibrations de moteur d'appareil éléctrique \n",
    "\n",
    "**Spécificitées des  données:** Series temporelles avec des erreurs d'acquision de capteurs et des anomalies de fréquences\n",
    "\n",
    "**Détécter les erreurs d'acquisistion sous forme de pics ( Méthode non supérvisé ):** 1 Dataset\n",
    "\n",
    "**Detection semi-supérvisé des signaux d'usure des rollements:** 1 Train et 2 Test datasets\n"
   ]
  },
  {
   "cell_type": "markdown",
   "id": "c6869c76-ea13-4894-88c7-98e45cbacdf4",
   "metadata": {
    "tags": []
   },
   "source": [
    "# Détécter les erreurs d'acquisistion sous forme de pics ( Méthode non supérvisé )"
   ]
  },
  {
   "cell_type": "code",
   "execution_count": 3,
   "id": "ab912fed-ad3d-4c67-89ce-ca9fa1ad8322",
   "metadata": {
    "tags": []
   },
   "outputs": [],
   "source": [
    "raw_data = pd.read_csv('Datasets2/Train/device_1.csv', index_col='ts')"
   ]
  },
  {
   "cell_type": "code",
   "execution_count": 4,
   "id": "f23d7b1c-bde4-4928-99bc-67ab6e7d0cdf",
   "metadata": {
    "tags": []
   },
   "outputs": [
    {
     "data": {
      "text/html": [
       "<div>\n",
       "<style scoped>\n",
       "    .dataframe tbody tr th:only-of-type {\n",
       "        vertical-align: middle;\n",
       "    }\n",
       "\n",
       "    .dataframe tbody tr th {\n",
       "        vertical-align: top;\n",
       "    }\n",
       "\n",
       "    .dataframe thead th {\n",
       "        text-align: right;\n",
       "    }\n",
       "</style>\n",
       "<table border=\"1\" class=\"dataframe\">\n",
       "  <thead>\n",
       "    <tr style=\"text-align: right;\">\n",
       "      <th></th>\n",
       "      <th>value</th>\n",
       "      <th>label</th>\n",
       "    </tr>\n",
       "  </thead>\n",
       "  <tbody>\n",
       "    <tr>\n",
       "      <th>count</th>\n",
       "      <td>100037.000000</td>\n",
       "      <td>100037.000000</td>\n",
       "    </tr>\n",
       "    <tr>\n",
       "      <th>mean</th>\n",
       "      <td>0.009184</td>\n",
       "      <td>0.154983</td>\n",
       "    </tr>\n",
       "    <tr>\n",
       "      <th>std</th>\n",
       "      <td>1.700410</td>\n",
       "      <td>0.368731</td>\n",
       "    </tr>\n",
       "    <tr>\n",
       "      <th>min</th>\n",
       "      <td>-102.153964</td>\n",
       "      <td>0.000000</td>\n",
       "    </tr>\n",
       "    <tr>\n",
       "      <th>25%</th>\n",
       "      <td>-0.637260</td>\n",
       "      <td>0.000000</td>\n",
       "    </tr>\n",
       "    <tr>\n",
       "      <th>50%</th>\n",
       "      <td>0.007909</td>\n",
       "      <td>0.000000</td>\n",
       "    </tr>\n",
       "    <tr>\n",
       "      <th>75%</th>\n",
       "      <td>0.641142</td>\n",
       "      <td>0.000000</td>\n",
       "    </tr>\n",
       "    <tr>\n",
       "      <th>max</th>\n",
       "      <td>91.085782</td>\n",
       "      <td>2.000000</td>\n",
       "    </tr>\n",
       "  </tbody>\n",
       "</table>\n",
       "</div>"
      ],
      "text/plain": [
       "               value          label\n",
       "count  100037.000000  100037.000000\n",
       "mean        0.009184       0.154983\n",
       "std         1.700410       0.368731\n",
       "min      -102.153964       0.000000\n",
       "25%        -0.637260       0.000000\n",
       "50%         0.007909       0.000000\n",
       "75%         0.641142       0.000000\n",
       "max        91.085782       2.000000"
      ]
     },
     "execution_count": 4,
     "metadata": {},
     "output_type": "execute_result"
    }
   ],
   "source": [
    "raw_data.describe()"
   ]
  },
  {
   "cell_type": "code",
   "execution_count": 5,
   "id": "182bf6b4-dd10-45c5-b68e-28ccb72409ac",
   "metadata": {
    "tags": []
   },
   "outputs": [
    {
     "data": {
      "text/plain": [
       "<Axes: xlabel='ts'>"
      ]
     },
     "execution_count": 5,
     "metadata": {},
     "output_type": "execute_result"
    },
    {
     "data": {
      "image/png": "[encoded data removed]",
      "text/plain": [
       "<Figure size 640x480 with 1 Axes>"
      ]
     },
     "metadata": {},
     "output_type": "display_data"
    }
   ],
   "source": [
    "raw_data['value'].plot()"
   ]
  },
  {
   "cell_type": "markdown",
   "id": "c9b43b03-23da-4ee7-a7fe-1eb207863da1",
   "metadata": {},
   "source": [
    "## Creation de modèle (LSTM AutoEncodeur)"
   ]
  },
  {
   "cell_type": "code",
   "execution_count": 6,
   "id": "c05fd356-5adc-4bb8-966d-ab07f0090b05",
   "metadata": {
    "tags": []
   },
   "outputs": [],
   "source": [
    "def LSTMAE(nb_entries, width, loss=\"MSE\"):\n",
    "        \"\"\"\n",
    "        Sets up the architecture that will be used for the autoencoder\n",
    "    \n",
    "            Parameters: \n",
    "        \n",
    "                nb_entries: an integer representing the number of rows of the spectrograms images\n",
    "                width: an integer representing the number of columns of the spectrograms images\n",
    "        \n",
    "            Returns:\n",
    "                model: convolutional autoencoder\n",
    "        \"\"\"\n",
    "        valid_shape = (width, nb_entries)\n",
    "        model = Sequential()\n",
    "        model.add(LSTM(64, activation='relu', input_shape=valid_shape, return_sequences=True))\n",
    "        model.add(Dense(32, activation='relu'))\n",
    "        model.add(Dense(units=10,activation=\"relu\", name=\"latent\"))\n",
    "        model.add(BatchNormalization())\n",
    "        model.add(Dense(32, activation='relu'))\n",
    "        model.add(LSTM(64, activation='sigmoid', return_sequences=True))\n",
    "        model.add(TimeDistributed(Dense(nb_entries)))\n",
    "        optimizer = tf.compat.v1.train.AdamOptimizer(learning_rate=0.01)\n",
    "        model.compile(optimizer=optimizer, loss=loss)\n",
    "        return model"
   ]
  },
  {
   "cell_type": "markdown",
   "id": "199b8ab2-b95d-4f51-a718-3478ba89f8d1",
   "metadata": {
    "tags": []
   },
   "source": [
    "## Formatage et pre-processing de la donnée"
   ]
  },
  {
   "cell_type": "code",
   "execution_count": 7,
   "id": "b346fcf4-f22c-4bde-a8e3-be636823cfd2",
   "metadata": {
    "tags": []
   },
   "outputs": [],
   "source": [
    "WINDOW_SIZE = 30"
   ]
  },
  {
   "cell_type": "code",
   "execution_count": 9,
   "id": "d892074a-c945-4031-b4d0-e2b5e84245b0",
   "metadata": {
    "tags": []
   },
   "outputs": [],
   "source": [
    "def build_rolling_data(data,window):\n",
    "    rolling_data = np.lib.stride_tricks.as_strided(data, (len(data) - window + 1, window),(data.strides[0], data.strides[0]))\n",
    "    rolling_data = tf.expand_dims(rolling_data,axis=-1)\n",
    "    return rolling_data"
   ]
  },
  {
   "cell_type": "code",
   "execution_count": 10,
   "id": "42728ef8-f162-4241-ac07-2ea30c1f3b25",
   "metadata": {
    "tags": []
   },
   "outputs": [
    {
     "name": "stderr",
     "output_type": "stream",
     "text": [
      "2023-03-07 15:15:16.831983: E tensorflow/compiler/xla/stream_executor/cuda/cuda_driver.cc:267] failed call to cuInit: CUDA_ERROR_NO_DEVICE: no CUDA-capable device is detected\n",
      "2023-03-07 15:15:16.832016: I tensorflow/compiler/xla/stream_executor/cuda/cuda_diagnostics.cc:169] retrieving CUDA diagnostic information for host: ye\n",
      "2023-03-07 15:15:16.832019: I tensorflow/compiler/xla/stream_executor/cuda/cuda_diagnostics.cc:176] hostname: ye\n",
      "2023-03-07 15:15:16.832125: I tensorflow/compiler/xla/stream_executor/cuda/cuda_diagnostics.cc:200] libcuda reported version is: 525.78.1\n",
      "2023-03-07 15:15:16.832143: I tensorflow/compiler/xla/stream_executor/cuda/cuda_diagnostics.cc:204] kernel reported version is: NOT_FOUND: could not find kernel module information in driver version file contents: \"NVRM version: NVIDIA UNIX Open Kernel Module for x86_64  525.78.01  Release Build  (dvs-builder@U16-J11-10-2)  Mon Dec 26 05:50:21 UTC 2022\n",
      "GCC version:  gcc version 9.4.0 (Ubuntu 9.4.0-1ubuntu1~20.04.1) \n",
      "\"\n",
      "2023-03-07 15:15:16.832525: I tensorflow/core/platform/cpu_feature_guard.cc:193] This TensorFlow binary is optimized with oneAPI Deep Neural Network Library (oneDNN) to use the following CPU instructions in performance-critical operations:  AVX2 AVX_VNNI FMA\n",
      "To enable them in other operations, rebuild TensorFlow with the appropriate compiler flags.\n"
     ]
    }
   ],
   "source": [
    "scaler = MinMaxScaler()\n",
    "# minmax scaler formula X_scaled = X-min(X) / max(X)-min(X)\n",
    "# Scales data between 0 and 1\n",
    "data = raw_data.value.values\n",
    "Normalized_data = scaler.fit_transform(data.reshape(-1,1))\n",
    "rolling_normalized_data = build_rolling_data(Normalized_data,WINDOW_SIZE)"
   ]
  },
  {
   "cell_type": "markdown",
   "id": "26b592ec-2cec-409c-a479-4fc736120acb",
   "metadata": {},
   "source": [
    "## Apprentissage du modèle "
   ]
  },
  {
   "cell_type": "code",
   "execution_count": 11,
   "id": "b186dc5b-dcb2-4c57-bf59-84c044dcfa7b",
   "metadata": {
    "tags": []
   },
   "outputs": [],
   "source": [
    "# Build LSTM AutoEncoder for unidimentional time series\n",
    "model = LSTMAE(1, WINDOW_SIZE)"
   ]
  },
  {
   "cell_type": "code",
   "execution_count": 12,
   "id": "00244608-a0a5-4274-8ccd-ccb1854655dd",
   "metadata": {
    "tags": []
   },
   "outputs": [
    {
     "name": "stdout",
     "output_type": "stream",
     "text": [
      "Epoch 1/20\n",
      "782/782 [==============================] - 28s 34ms/step - loss: 0.0020\n",
      "Epoch 2/20\n",
      "782/782 [==============================] - 26s 33ms/step - loss: 5.9064e-05\n",
      "Epoch 3/20\n",
      "782/782 [==============================] - 26s 34ms/step - loss: 3.7351e-05\n",
      "Epoch 4/20\n",
      "782/782 [==============================] - 25s 32ms/step - loss: 1.7656e-05\n",
      "Epoch 5/20\n",
      "782/782 [==============================] - 28s 36ms/step - loss: 1.6985e-05\n",
      "Epoch 6/20\n",
      "782/782 [==============================] - 32s 41ms/step - loss: 2.1302e-05\n",
      "Epoch 7/20\n",
      "782/782 [==============================] - 33s 42ms/step - loss: 2.7531e-05\n",
      "Epoch 8/20\n",
      "782/782 [==============================] - 34s 43ms/step - loss: 2.2955e-05\n",
      "Epoch 9/20\n",
      "782/782 [==============================] - 32s 41ms/step - loss: 1.9138e-05\n",
      "Epoch 10/20\n",
      "782/782 [==============================] - 33s 42ms/step - loss: 1.8140e-05\n",
      "Epoch 11/20\n",
      "782/782 [==============================] - 30s 39ms/step - loss: 1.4240e-05\n",
      "Epoch 12/20\n",
      "782/782 [==============================] - 30s 39ms/step - loss: 1.3984e-05\n",
      "Epoch 13/20\n",
      "782/782 [==============================] - 30s 39ms/step - loss: 1.3575e-05\n",
      "Epoch 14/20\n",
      "782/782 [==============================] - 32s 41ms/step - loss: 1.8991e-05\n",
      "Epoch 15/20\n",
      "782/782 [==============================] - 30s 38ms/step - loss: 9.0396e-06\n",
      "Epoch 16/20\n",
      "782/782 [==============================] - 31s 40ms/step - loss: 8.4795e-06\n",
      "Epoch 17/20\n",
      "782/782 [==============================] - 32s 41ms/step - loss: 9.7845e-06\n",
      "Epoch 18/20\n",
      "782/782 [==============================] - 33s 42ms/step - loss: 7.3564e-06\n",
      "Epoch 19/20\n",
      "782/782 [==============================] - 31s 39ms/step - loss: 7.5200e-06\n",
      "Epoch 20/20\n",
      "782/782 [==============================] - 32s 41ms/step - loss: 7.6891e-06\n",
      "model trained in 10.12956463098526 minutes\n"
     ]
    }
   ],
   "source": [
    "start = time.time()\n",
    "model.fit(rolling_normalized_data,rolling_normalized_data,epochs= 20, verbose = True, batch_size=128)\n",
    "print(f\"model trained in {(time.time()-start)/60} minutes\")"
   ]
  },
  {
   "cell_type": "markdown",
   "id": "5a430cf6-4e2c-4e18-b10c-419df2733ec3",
   "metadata": {},
   "source": [
    "## Prediction "
   ]
  },
  {
   "cell_type": "code",
   "execution_count": 13,
   "id": "066a1422-19a4-43e2-bd4a-6e8a56ed1a49",
   "metadata": {
    "tags": []
   },
   "outputs": [
    {
     "name": "stdout",
     "output_type": "stream",
     "text": [
      "3126/3126 [==============================] - 36s 12ms/step\n"
     ]
    }
   ],
   "source": [
    "predicted = model.predict(rolling_normalized_data)"
   ]
  },
  {
   "cell_type": "code",
   "execution_count": 14,
   "id": "e41d7497-a52d-4ee9-95df-07c8a75addd4",
   "metadata": {
    "tags": []
   },
   "outputs": [],
   "source": [
    "reconstruction_error = np.mean((rolling_normalized_data-predicted)**2, axis =1)"
   ]
  },
  {
   "cell_type": "code",
   "execution_count": 15,
   "id": "8ed6fcc9-bc29-414a-b5e3-69d2ffad42f8",
   "metadata": {
    "tags": []
   },
   "outputs": [],
   "source": [
    "# the threshold is the  average of reconstruction error + 3 std reconstruction error\n",
    "# The predicted anomalies are the points with a decision inferior to 0 <=> reconstruction error > threshold\n",
    "decision = -reconstruction_error + np.mean(reconstruction_error)+3*np.std(reconstruction_error)"
   ]
  },
  {
   "cell_type": "code",
   "execution_count": 17,
   "id": "3b944868-0952-49ea-b9aa-fc5e82e5c238",
   "metadata": {
    "tags": []
   },
   "outputs": [],
   "source": [
    "padding = [0]*(len(raw_data)-len(decision)) # creating a padding for the decision list to match size of initial data"
   ]
  },
  {
   "cell_type": "code",
   "execution_count": 19,
   "id": "b8d289a3-4de3-4dcb-96e7-ce300b518228",
   "metadata": {
    "tags": []
   },
   "outputs": [],
   "source": [
    "raw_data['predict'] = list(decision.flatten()) + padding"
   ]
  },
  {
   "cell_type": "code",
   "execution_count": 20,
   "id": "85343e20-281e-4e9d-9bda-2d787d69659d",
   "metadata": {
    "tags": []
   },
   "outputs": [],
   "source": [
    "# the anomalies are the points with an initial predict value inferior to 0\n",
    "raw_data['predict'] = raw_data['predict'].apply(lambda x : 25 if x < 0 else 0)"
   ]
  },
  {
   "cell_type": "markdown",
   "id": "651d02de-0901-4e47-9b45-77b3da92e9e0",
   "metadata": {
    "tags": []
   },
   "source": [
    "## Visualisation "
   ]
  },
  {
   "cell_type": "code",
   "execution_count": 21,
   "id": "8d7cc1e7-5b88-4d34-8cb2-c9011f19b0c2",
   "metadata": {
    "tags": []
   },
   "outputs": [
    {
     "data": {
      "text/plain": [
       "<Axes: xlabel='ts'>"
      ]
     },
     "execution_count": 21,
     "metadata": {},
     "output_type": "execute_result"
    },
    {
     "data": {
      "image/png": "[encoded data removed]",
      "text/plain": [
       "<Figure size 640x480 with 1 Axes>"
      ]
     },
     "metadata": {},
     "output_type": "display_data"
    }
   ],
   "source": [
    "raw_data[['value','predict']].plot()"
   ]
  },
  {
   "cell_type": "code",
   "execution_count": null,
   "id": "909a1ecf-a113-4d1e-b377-45fcd3d6f344",
   "metadata": {
    "tags": []
   },
   "outputs": [],
   "source": []
  },
  {
   "cell_type": "code",
   "execution_count": null,
   "id": "a38d55d9-94be-4581-ab2a-bf319def7b3e",
   "metadata": {
    "tags": []
   },
   "outputs": [],
   "source": []
  },
  {
   "cell_type": "markdown",
   "id": "89f56aec-e95f-49fa-833d-505bfe90b14f",
   "metadata": {
    "tags": []
   },
   "source": [
    "# Detection semi-supérvisé des signaux d'usure des roulements"
   ]
  },
  {
   "cell_type": "markdown",
   "id": "031fb18e-d795-4fb2-9bdc-27ca82168deb",
   "metadata": {},
   "source": [
    "## Import des données"
   ]
  },
  {
   "cell_type": "code",
   "execution_count": 22,
   "id": "b4d91380-cd39-4698-b73a-2c783e51b92d",
   "metadata": {
    "tags": []
   },
   "outputs": [],
   "source": [
    "train_data_2 = pd.read_csv(\"Datastest5/train.csv\")\n",
    "test_data_2 = pd.read_csv(\"Datastest5/test.csv\")"
   ]
  },
  {
   "cell_type": "code",
   "execution_count": 72,
   "id": "18d3513f-f149-4dc7-9f10-d17d3d5a3790",
   "metadata": {
    "tags": []
   },
   "outputs": [],
   "source": [
    "# train_data_2[['value','Class']].plot()"
   ]
  },
  {
   "cell_type": "code",
   "execution_count": null,
   "id": "c1a590a5-e2aa-41ae-b026-eedc4b212fe1",
   "metadata": {
    "tags": []
   },
   "outputs": [],
   "source": []
  },
  {
   "cell_type": "markdown",
   "id": "c4a44e7d-5e25-4ca3-852a-bd08bfeb1d0d",
   "metadata": {},
   "source": [
    "## Creation de modèle ( CNN AE ) "
   ]
  },
  {
   "cell_type": "code",
   "execution_count": 25,
   "id": "54b90ca8-e5cd-4e59-9942-39c0c4cd73d5",
   "metadata": {
    "tags": []
   },
   "outputs": [],
   "source": [
    "class ConvAutoencoder:\n",
    "    @staticmethod\n",
    "    def build(width, height, depth, filters=(32, 64), latentDim=100):\n",
    "        # initialize the input shape to be \"channels last\" along with\n",
    "        # the channels dimension itself\n",
    "        # channels dimension itself\n",
    "        inputShape = (height, width, depth)\n",
    "        chanDim = -1\n",
    "        # define the input to the encoder\n",
    "        inputs = Input(shape=inputShape)\n",
    "        x = inputs\n",
    "        # loop over the number of filters\n",
    "        for f in filters:\n",
    "        # apply a CONV => RELU => BN operation\n",
    "            x = Conv2D(f, (3, 3), strides=2, padding=\"same\")(x)\n",
    "            x = LeakyReLU(alpha=0.2)(x)\n",
    "            x = BatchNormalization(axis=chanDim)(x)\n",
    "        # flatten the network and then construct our latent vector\n",
    "        volumeSize = K.int_shape(x)\n",
    "        x = Flatten()(x)\n",
    "        latent = Dense(latentDim)(x)\n",
    "        # build the encoder model\n",
    "        encoder = Model(inputs, latent, name=\"encoder\")\n",
    "        # start building the decoder model which will accept the\n",
    "        # output of the encoder as its inputs\n",
    "        latentInputs = Input(shape=(latentDim,))\n",
    "        x = Dense(np.prod(volumeSize[1:]))(latentInputs)\n",
    "        x = Reshape((volumeSize[1], volumeSize[2], volumeSize[3]))(x)\n",
    "        # loop over our number of filters again, but this time in\n",
    "        # reverse order\n",
    "        for f in filters[::-1]:\n",
    "            # apply a CONV_TRANSPOSE => RELU => BN operation\n",
    "            x = Conv2DTranspose(f, (3, 3), strides=2,\n",
    "                padding=\"same\")(x)\n",
    "            x = LeakyReLU(alpha=0.2)(x)\n",
    "            x = BatchNormalization(axis=chanDim)(x)\n",
    "        # apply a single CONV_TRANSPOSE layer used to recover the\n",
    "        # original depth of the image\n",
    "        x = Conv2DTranspose(depth, (3, 3), padding=\"same\")(x)\n",
    "        outputs = Activation(\"sigmoid\")(x)\n",
    "        # build the decoder model\n",
    "        decoder = Model(latentInputs, outputs, name=\"decoder\")\n",
    "        # our autoencoder is the encoder + decoder\n",
    "        autoencoder = Model(inputs, decoder(encoder(inputs)),\n",
    "        name=\"autoencoder\")\n",
    "        optimizer = tf.keras.optimizers.Adam(learning_rate=0.01)\n",
    "        autoencoder.compile(loss=\"mse\", optimizer=optimizer)\n",
    "        return autoencoder"
   ]
  },
  {
   "cell_type": "markdown",
   "id": "28b3e866-a23d-485e-8a93-9ee6022ff787",
   "metadata": {},
   "source": [
    "## Preparation des données"
   ]
  },
  {
   "cell_type": "code",
   "execution_count": 26,
   "id": "1e4a493b-3548-4dc2-af2f-0c9c736f0454",
   "metadata": {
    "tags": []
   },
   "outputs": [],
   "source": [
    "def build_spectrograms(data,window,saving_folder,step,label_col = 'Class'):\n",
    "    i = 0\n",
    "    range_df = i*step\n",
    "    while range_df+window < len(data):\n",
    "        range_df = i*step\n",
    "        y = data[range_df:range_df+window].value.values\n",
    "        img_class = 1 if data[range_df:range_df+window][label_col].sum() > 0.3*window else  0\n",
    "        S_left = librosa.stft(y, center=True, n_fft=int(window/2))\n",
    "        fig, ax = plt.subplots()\n",
    "        img = librosa.display.specshow(librosa.amplitude_to_db(S_left,\n",
    "                                                               ref=np.max),\n",
    "                                       y_axis='log', x_axis='time', ax=ax)\n",
    "        ax.set_title('Power spectrogram')\n",
    "        fig.colorbar(img, ax=ax, format=\"%+2.0f dB\")\n",
    "        plt.savefig(f\"{saving_folder}/class_{img_class}/{range_df}_{range_df+window-1}.png\")\n",
    "        i+=1\n"
   ]
  },
  {
   "cell_type": "code",
   "execution_count": null,
   "id": "1a12f97e-5848-4e17-9f62-68ad5c32db17",
   "metadata": {
    "tags": []
   },
   "outputs": [],
   "source": []
  },
  {
   "cell_type": "code",
   "execution_count": 27,
   "id": "77ed595a-4453-4587-b004-9cd9b0c0f11d",
   "metadata": {
    "tags": []
   },
   "outputs": [],
   "source": [
    "# build_spectrograms(train_data_2,100,\"Spectrograms6/Train\",1)\n",
    "# build_spectrograms(test_data_2,100,\"Spectrograms6/Test\",1)\n"
   ]
  },
  {
   "cell_type": "markdown",
   "id": "56b8e5c6-4dce-4f65-a2e9-76bdf472430a",
   "metadata": {},
   "source": [
    "## Chargement des spectrogrammes"
   ]
  },
  {
   "cell_type": "code",
   "execution_count": 28,
   "id": "b92c9a1c-cbad-44ee-a5aa-40c22339255b",
   "metadata": {
    "tags": []
   },
   "outputs": [],
   "source": [
    "#chargement custom des données de spéctrogramme de train\n",
    "train_folder = \"Spectrograms6/Train\"\n",
    "train_images = []\n",
    "ano_images = [] \n",
    "class_data = [\"class_0\",\"class_1\"]\n",
    "for label in class_data:\n",
    "    for i,img in enumerate(os.listdir(f\"{train_folder}/{label}/\")):\n",
    "        if 'png' in img:\n",
    "            image = tf.keras.utils.load_img(f\"{train_folder}/{label}/{img}\",color_mode = \"grayscale\",target_size=(100, 100))\n",
    "            input_arr = tf.keras.utils.img_to_array(image)/255.0\n",
    "            if label == \"class_0\":    \n",
    "                train_images.append(input_arr)\n",
    "            else:\n",
    "                ano_images.append(input_arr)\n"
   ]
  },
  {
   "cell_type": "code",
   "execution_count": 29,
   "id": "026f7517-a6ba-4a41-a113-cc4a792a8b3d",
   "metadata": {
    "tags": []
   },
   "outputs": [],
   "source": [
    "X_train0_CAE = np.array(train_images) # spectrograms de données normal train\n",
    "X_train1_CAE = np.array(ano_images) # spectrograms de données anormal train"
   ]
  },
  {
   "cell_type": "code",
   "execution_count": 30,
   "id": "ee059ae2-56af-46ae-8817-0a60d479aad1",
   "metadata": {
    "tags": []
   },
   "outputs": [],
   "source": [
    "#chargement custom des données de spéctrogramme de test\n",
    "test_folder = \"Spectrograms6/Test\"\n",
    "test_images0 = []\n",
    "test_images1 = [] \n",
    "class_data = [\"class_0\",\"class_1\"]\n",
    "for label in class_data:\n",
    "    for i,img in enumerate(os.listdir(f\"{test_folder}/{label}/\")):\n",
    "        if 'png' in img:\n",
    "            image = tf.keras.utils.load_img(f\"{test_folder}/{label}/{img}\",color_mode = \"grayscale\",target_size=(100, 100))\n",
    "            input_arr = tf.keras.utils.img_to_array(image)/255.0\n",
    "            if label == \"class_0\":    \n",
    "                test_images0.append(input_arr)\n",
    "            else:\n",
    "                test_images1.append(input_arr)"
   ]
  },
  {
   "cell_type": "code",
   "execution_count": 32,
   "id": "51dc1975-93b2-447c-b956-29458a353f1f",
   "metadata": {
    "tags": []
   },
   "outputs": [],
   "source": [
    "X_test0CAE = np.array(test_images0) # spectrograms de données normal test\n",
    "X_test1CAE = np.array(test_images1) # spectrograms de données anormal test"
   ]
  },
  {
   "cell_type": "markdown",
   "id": "5e40b52d-b738-4a2e-862e-fd2c57e76457",
   "metadata": {
    "tags": []
   },
   "source": [
    "## Apprentissage du modèle"
   ]
  },
  {
   "cell_type": "code",
   "execution_count": 33,
   "id": "633c5bd2-8243-4dc7-a9cb-95dcf8eca27d",
   "metadata": {
    "tags": []
   },
   "outputs": [],
   "source": [
    "CAE = ConvAutoencoder.build(100, 100, 1) # construction de l'architecture"
   ]
  },
  {
   "cell_type": "code",
   "execution_count": 34,
   "id": "43433487-5bd1-4f1a-ad5c-7ce6b2c82cc1",
   "metadata": {
    "tags": []
   },
   "outputs": [
    {
     "name": "stdout",
     "output_type": "stream",
     "text": [
      "Epoch 1/20\n",
      "88/88 [==============================] - 10s 107ms/step - loss: 0.0233\n",
      "Epoch 2/20\n",
      "88/88 [==============================] - 9s 107ms/step - loss: 0.0044\n",
      "Epoch 3/20\n",
      "88/88 [==============================] - 9s 107ms/step - loss: 0.0039\n",
      "Epoch 4/20\n",
      "88/88 [==============================] - 9s 107ms/step - loss: 0.0034\n",
      "Epoch 5/20\n",
      "88/88 [==============================] - 9s 106ms/step - loss: 0.0014\n",
      "Epoch 6/20\n",
      "88/88 [==============================] - 9s 106ms/step - loss: 7.4123e-04\n",
      "Epoch 7/20\n",
      "88/88 [==============================] - 11s 123ms/step - loss: 4.2717e-04\n",
      "Epoch 8/20\n",
      "88/88 [==============================] - 12s 131ms/step - loss: 3.9586e-04\n",
      "Epoch 9/20\n",
      "88/88 [==============================] - 12s 133ms/step - loss: 4.1487e-04\n",
      "Epoch 10/20\n",
      "88/88 [==============================] - 11s 130ms/step - loss: 3.8949e-04\n",
      "Epoch 11/20\n",
      "88/88 [==============================] - 12s 131ms/step - loss: 3.1519e-04\n",
      "Epoch 12/20\n",
      "88/88 [==============================] - 11s 121ms/step - loss: 3.2361e-04\n",
      "Epoch 13/20\n",
      "88/88 [==============================] - 10s 114ms/step - loss: 2.7774e-04\n",
      "Epoch 14/20\n",
      "88/88 [==============================] - 10s 113ms/step - loss: 3.1195e-04\n",
      "Epoch 15/20\n",
      "88/88 [==============================] - 10s 113ms/step - loss: 3.5781e-04\n",
      "Epoch 16/20\n",
      "88/88 [==============================] - 10s 114ms/step - loss: 2.3899e-04\n",
      "Epoch 17/20\n",
      "88/88 [==============================] - 10s 115ms/step - loss: 2.6881e-04\n",
      "Epoch 18/20\n",
      "88/88 [==============================] - 10s 118ms/step - loss: 2.6213e-04\n",
      "Epoch 19/20\n",
      "88/88 [==============================] - 12s 131ms/step - loss: 2.3182e-04\n",
      "Epoch 20/20\n",
      "88/88 [==============================] - 10s 119ms/step - loss: 2.0999e-04\n",
      "model trained in 3.455578676859538 minutes\n"
     ]
    }
   ],
   "source": [
    "start = time.time()\n",
    "callback = tf.keras.callbacks.EarlyStopping(monitor='loss', patience=5)\n",
    "CAE.fit(X_train0_CAE,X_train0_CAE, epochs=20, verbose = True, callbacks= [callback])\n",
    "print(f\"model trained in {(time.time()-start)/60} minutes\")\n"
   ]
  },
  {
   "cell_type": "markdown",
   "id": "6969b3e4-ca9e-4d24-9271-d60ad8e5531b",
   "metadata": {
    "tags": []
   },
   "source": [
    "## Prediction"
   ]
  },
  {
   "cell_type": "code",
   "execution_count": 35,
   "id": "b914b7ce-2a48-48d8-bf60-9935c84bc1de",
   "metadata": {
    "tags": []
   },
   "outputs": [
    {
     "name": "stdout",
     "output_type": "stream",
     "text": [
      "88/88 [==============================] - 4s 41ms/step\n",
      "2/2 [==============================] - 0s 35ms/step\n"
     ]
    }
   ],
   "source": [
    "predictions0CAE = CAE.predict(X_train0_CAE) # normal data predictions\n",
    "predictions1CAE = CAE.predict(X_train1_CAE) # anomalies predictions"
   ]
  },
  {
   "cell_type": "code",
   "execution_count": 50,
   "id": "96e48c97-8d64-49bc-a779-79c932f8833f",
   "metadata": {
    "tags": []
   },
   "outputs": [],
   "source": [
    "r_e_CAE = np.sum(np.sum((X_train0_CAE-predictions0CAE) ** 2, axis=1),axis = 1) # computing reconstruction error of normal train data \n",
    "r_e_anos_CAE = np.sum(np.sum((X_train1_CAE-predictions1CAE) ** 2, axis=1),axis = 1) # computing reconstruction error of abnormal train data \n",
    "threshold_t_CAE = np.quantile(r_e_CAE,0.999) # setting reconstruction error threshold"
   ]
  },
  {
   "cell_type": "code",
   "execution_count": null,
   "id": "20d535ab-bae8-4818-a4ad-55a191788c40",
   "metadata": {
    "tags": []
   },
   "outputs": [],
   "source": []
  },
  {
   "cell_type": "code",
   "execution_count": 37,
   "id": "5221f815-3d09-46b5-aaa8-cbe68cd3cf0f",
   "metadata": {
    "tags": []
   },
   "outputs": [
    {
     "name": "stdout",
     "output_type": "stream",
     "text": [
      "89/89 [==============================] - 4s 41ms/step\n",
      "1/1 [==============================] - 0s 50ms/step\n"
     ]
    }
   ],
   "source": [
    "prediction_test0CAE = CAE.predict(X_test0CAE)\n",
    "prediction_test1CAE = CAE.predict(X_test1CAE)"
   ]
  },
  {
   "cell_type": "code",
   "execution_count": 38,
   "id": "cb4e3e73-40ad-40c2-9c7b-17890b7651e4",
   "metadata": {
    "tags": []
   },
   "outputs": [],
   "source": [
    "r_e_test0CAE = np.sum(np.sum((X_test0CAE-prediction_test0CAE) ** 2, axis=1),axis=1)\n",
    "r_e_test1CAE = np.sum(np.sum((X_test1CAE-prediction_test1CAE) ** 2, axis=1),axis=1)"
   ]
  },
  {
   "cell_type": "code",
   "execution_count": 51,
   "id": "b4eee5e5-247c-455d-a2cb-78081ff06172",
   "metadata": {
    "tags": []
   },
   "outputs": [],
   "source": [
    "decision0CAE = -r_e_test0CAE + threshold_t_CAE\n",
    "decision1CAE = -r_e_test1CAE + threshold_t_CAE\n",
    "df0CAE = pd.DataFrame(decision0CAE, columns=['v'])\n",
    "df1CAE = pd.DataFrame(decision1CAE, columns=['v'])"
   ]
  },
  {
   "cell_type": "code",
   "execution_count": 52,
   "id": "a13991d5-9485-402b-a1c7-72450d56cb3b",
   "metadata": {
    "tags": []
   },
   "outputs": [],
   "source": [
    "# computing f1 score of minority class\n",
    "recall = len(df1CAE[df1CAE.v<0])/len(df1CAE)\n",
    "precision = len(df1CAE[df1CAE.v<0])/(len(df1CAE[df1CAE.v<0])+len(df0CAE[df0CAE.v<0]))\n",
    "f1 = 2*precision*recall/(precision+recall)"
   ]
  },
  {
   "cell_type": "code",
   "execution_count": 44,
   "id": "46da3e41-66df-48a6-b95c-125da8a955bb",
   "metadata": {
    "tags": []
   },
   "outputs": [],
   "source": [
    "# computing f1 score of majority class\n",
    "recall_maj = len(df0CAE[df0CAE.v>0])/len(df0CAE)\n",
    "precision_maj = len(df0CAE[df0CAE.v>0])/(len(df1CAE[df1CAE.v>0])+len(df0CAE[df0CAE.v>0]))\n",
    "f1_maj = 2*precision_maj*recall_maj/(precision_maj+recall_maj)"
   ]
  },
  {
   "cell_type": "markdown",
   "id": "bf50b01a-8377-43c0-bbfb-e63300a9e37d",
   "metadata": {
    "tags": []
   },
   "source": [
    "### Test score"
   ]
  },
  {
   "cell_type": "code",
   "execution_count": 56,
   "id": "08898131-bfee-4573-a059-1b9463b05155",
   "metadata": {
    "tags": []
   },
   "outputs": [
    {
     "name": "stdout",
     "output_type": "stream",
     "text": [
      "Test scores:\n",
      "minority class F1 score 0.896551724137931\n",
      "majority class F1 score 0.9941228851291184\n",
      "average F1 score 0.9453373046335247\n"
     ]
    }
   ],
   "source": [
    "print(f\"Test scores:\")\n",
    "print(f\"minority class F1 score {f1}\")\n",
    "print(f\"majority class F1 score {f1_maj}\")\n",
    "print(f\"average F1 score {(f1+f1_maj)/2}\")"
   ]
  },
  {
   "cell_type": "markdown",
   "id": "f4274e3d-980e-4bde-ba63-596bf628f2cd",
   "metadata": {
    "tags": []
   },
   "source": [
    "## Detection supérvisé des signaux d'usure des roulements"
   ]
  },
  {
   "cell_type": "markdown",
   "id": "40af97c4-aec9-4fbb-aa6c-5bda8f13f81b",
   "metadata": {},
   "source": [
    "## Import des données"
   ]
  },
  {
   "cell_type": "code",
   "execution_count": 57,
   "id": "986ba730-a619-4fbe-96f9-511987eb08fc",
   "metadata": {
    "tags": []
   },
   "outputs": [
    {
     "name": "stdout",
     "output_type": "stream",
     "text": [
      "Found 2855 files belonging to 2 classes.\n",
      "Using 2284 files for training.\n",
      "Using 571 files for validation.\n",
      "Found 2850 files belonging to 2 classes.\n",
      "Found 2849 files belonging to 2 classes.\n"
     ]
    }
   ],
   "source": [
    "image_size = (100,100)\n",
    "train_data3 = tf.keras.utils.image_dataset_from_directory(\"Spectrograms6/Train/\",image_size=image_size,seed = 0,validation_split = 0.2,color_mode = 'grayscale', subset='both',label_mode='categorical')\n",
    "test_data3 = tf.keras.utils.image_dataset_from_directory(\"Spectrograms6/Test/\",image_size=image_size,color_mode = 'grayscale',label_mode='categorical')\n",
    "test2_data3 = tf.keras.utils.image_dataset_from_directory(\"Spectrograms6/Test2/\",image_size=image_size,color_mode = 'grayscale',label_mode='categorical')"
   ]
  },
  {
   "cell_type": "markdown",
   "id": "385a3522-2733-47c0-92ec-d8a8bcabbfec",
   "metadata": {
    "tags": []
   },
   "source": [
    "## Creation de modèle CNN classifier "
   ]
  },
  {
   "cell_type": "code",
   "execution_count": 58,
   "id": "a7d17c17-43d4-47c2-ab2d-2417f568f7ae",
   "metadata": {
    "tags": []
   },
   "outputs": [],
   "source": [
    "def CNN_classifier(input_shape, num_classes):\n",
    "    inputs = keras.Input(shape=input_shape)\n",
    "\n",
    "    # Entry block\n",
    "    x = layers.Rescaling(1.0 / 255)(inputs)\n",
    "    x = layers.Conv2D(128, 3, strides=2, padding=\"same\")(x)\n",
    "    x = layers.BatchNormalization()(x)\n",
    "    x = layers.Activation(\"relu\")(x)\n",
    "\n",
    "    previous_block_activation = x  # Set aside residual\n",
    "\n",
    "    for size in [32,64]:\n",
    "        x = layers.Activation(\"relu\")(x)\n",
    "        x = layers.SeparableConv2D(size, 3, padding=\"same\")(x)\n",
    "        x = layers.BatchNormalization()(x)\n",
    "\n",
    "        x = layers.Activation(\"relu\")(x)\n",
    "        x = layers.SeparableConv2D(size, 3, padding=\"same\")(x)\n",
    "        x = layers.BatchNormalization()(x)\n",
    "\n",
    "        x = layers.MaxPooling2D(3, strides=2, padding=\"same\")(x)\n",
    "\n",
    "        # Project residual\n",
    "        residual = layers.Conv2D(size, 1, strides=2, padding=\"same\")(\n",
    "            previous_block_activation\n",
    "        )\n",
    "        x = layers.add([x, residual])  # Add back residual\n",
    "        previous_block_activation = x  # Set aside next residual\n",
    "\n",
    "    x = layers.SeparableConv2D(1024, 3, padding=\"same\")(x)\n",
    "    x = layers.BatchNormalization()(x)\n",
    "    x = layers.Activation(\"relu\")(x)\n",
    "\n",
    "    x = layers.GlobalAveragePooling2D()(x)\n",
    "    if num_classes == 2:\n",
    "        activation = \"sigmoid\"\n",
    "        units = 2\n",
    "    else:\n",
    "        activation = \"softmax\"\n",
    "        units = num_classes\n",
    "\n",
    "    x = layers.Dropout(0.5)(x)\n",
    "    outputs = layers.Dense(units, activation=activation)(x)\n",
    "    return keras.Model(inputs, outputs)"
   ]
  },
  {
   "cell_type": "code",
   "execution_count": 59,
   "id": "693b845e-3433-417c-89eb-eeedf4ffb4e3",
   "metadata": {
    "tags": []
   },
   "outputs": [],
   "source": [
    "# redefinition des metrics \n",
    "\n",
    "def recall_m(y_true, y_pred):\n",
    "    true_positives = K.sum(K.round(K.clip(y_true * y_pred, 0, 1)))\n",
    "    possible_positives = K.sum(K.round(K.clip(y_true, 0, 1)))\n",
    "    recall = true_positives / (possible_positives + K.epsilon())\n",
    "    return recall\n",
    "\n",
    "def precision_m(y_true, y_pred):\n",
    "    true_positives = K.sum(K.round(K.clip(y_true * y_pred, 0, 1)))\n",
    "    predicted_positives = K.sum(K.round(K.clip(y_pred, 0, 1)))\n",
    "    precision = true_positives / (predicted_positives + K.epsilon())\n",
    "    return precision\n",
    "\n",
    "def f1_m(y_true, y_pred):\n",
    "    precision = precision_m(y_true, y_pred)\n",
    "    recall = recall_m(y_true, y_pred)\n",
    "    return 2*((precision*recall)/(precision+recall+K.epsilon()))"
   ]
  },
  {
   "cell_type": "code",
   "execution_count": 61,
   "id": "130b388d-5021-4570-9d8d-bbcd0b6fd541",
   "metadata": {
    "tags": []
   },
   "outputs": [],
   "source": [
    "model = CNN_classifier(input_shape=image_size + (1,), num_classes=2)"
   ]
  },
  {
   "cell_type": "code",
   "execution_count": 62,
   "id": "f4b1083e-1eb7-4622-b503-75357814b1fe",
   "metadata": {
    "tags": []
   },
   "outputs": [
    {
     "name": "stdout",
     "output_type": "stream",
     "text": [
      "Epoch 1/20\n",
      "71/72 [============================>.] - ETA: 0s - loss: 0.0659 - f1_m: 0.9809"
     ]
    },
    {
     "name": "stderr",
     "output_type": "stream",
     "text": [
      "2023-03-07 15:40:50.372076: E tensorflow/core/grappler/optimizers/meta_optimizer.cc:954] remapper failed: INVALID_ARGUMENT: Mutation::Apply error: fanout 'model/add_1/add' exist for missing node 'model/add/add'.\n",
      "2023-03-07 15:40:50.386353: E tensorflow/core/grappler/optimizers/meta_optimizer.cc:954] remapper failed: INVALID_ARGUMENT: Mutation::Apply error: fanout 'model/add_1/add' exist for missing node 'model/add/add'.\n"
     ]
    },
    {
     "name": "stdout",
     "output_type": "stream",
     "text": [
      "72/72 [==============================] - 8s 96ms/step - loss: 0.0656 - f1_m: 0.9812 - val_loss: 0.5201 - val_f1_m: 0.9806\n",
      "Epoch 2/20\n",
      "72/72 [==============================] - 7s 95ms/step - loss: 0.0101 - f1_m: 0.9976 - val_loss: 0.3703 - val_f1_m: 0.9806\n",
      "Epoch 3/20\n",
      "72/72 [==============================] - 7s 94ms/step - loss: 0.0049 - f1_m: 0.9987 - val_loss: 0.3576 - val_f1_m: 0.9806\n",
      "Epoch 4/20\n",
      "72/72 [==============================] - 7s 95ms/step - loss: 0.0038 - f1_m: 0.9996 - val_loss: 1.7803 - val_f1_m: 0.0194\n",
      "Epoch 5/20\n",
      "72/72 [==============================] - 7s 95ms/step - loss: 0.0012 - f1_m: 0.9998 - val_loss: 4.3210 - val_f1_m: 0.0194\n",
      "Epoch 6/20\n",
      "72/72 [==============================] - 7s 96ms/step - loss: 0.0033 - f1_m: 0.9980 - val_loss: 0.4372 - val_f1_m: 0.8705\n",
      "Epoch 7/20\n",
      "72/72 [==============================] - 7s 95ms/step - loss: 0.0044 - f1_m: 0.9993 - val_loss: 0.0181 - val_f1_m: 1.0000\n",
      "Epoch 8/20\n",
      "72/72 [==============================] - 7s 96ms/step - loss: 0.0023 - f1_m: 0.9989 - val_loss: 13.9650 - val_f1_m: 0.0194\n",
      "Epoch 9/20\n",
      "72/72 [==============================] - 7s 96ms/step - loss: 0.0014 - f1_m: 0.9996 - val_loss: 0.1061 - val_f1_m: 0.9806\n",
      "Epoch 10/20\n",
      "72/72 [==============================] - 7s 97ms/step - loss: 0.0050 - f1_m: 0.9983 - val_loss: 0.0013 - val_f1_m: 1.0000\n",
      "Epoch 11/20\n",
      "72/72 [==============================] - 7s 95ms/step - loss: 9.8958e-04 - f1_m: 0.9996 - val_loss: 0.0018 - val_f1_m: 0.9983\n",
      "Epoch 12/20\n",
      "72/72 [==============================] - 7s 96ms/step - loss: 0.0013 - f1_m: 0.9996 - val_loss: 0.0230 - val_f1_m: 0.9931\n",
      "Epoch 13/20\n",
      "72/72 [==============================] - 7s 96ms/step - loss: 5.4054e-04 - f1_m: 1.0000 - val_loss: 0.0015 - val_f1_m: 0.9983\n",
      "Epoch 14/20\n",
      "72/72 [==============================] - 7s 96ms/step - loss: 6.7065e-04 - f1_m: 0.9998 - val_loss: 0.0141 - val_f1_m: 0.9965\n",
      "Epoch 15/20\n",
      "72/72 [==============================] - 7s 97ms/step - loss: 3.4336e-04 - f1_m: 1.0000 - val_loss: 0.0010 - val_f1_m: 1.0000\n",
      "Epoch 16/20\n",
      "72/72 [==============================] - 8s 108ms/step - loss: 1.0429e-04 - f1_m: 1.0000 - val_loss: 7.8252e-05 - val_f1_m: 1.0000\n",
      "Epoch 17/20\n",
      "72/72 [==============================] - 8s 108ms/step - loss: 8.0067e-05 - f1_m: 1.0000 - val_loss: 5.3004e-05 - val_f1_m: 1.0000\n",
      "Epoch 18/20\n",
      "72/72 [==============================] - 8s 107ms/step - loss: 1.1374e-04 - f1_m: 1.0000 - val_loss: 6.6215e-05 - val_f1_m: 1.0000\n",
      "Epoch 19/20\n",
      "72/72 [==============================] - 8s 108ms/step - loss: 7.3518e-05 - f1_m: 1.0000 - val_loss: 3.6980e-05 - val_f1_m: 1.0000\n",
      "Epoch 20/20\n",
      "72/72 [==============================] - 7s 97ms/step - loss: 8.0885e-05 - f1_m: 1.0000 - val_loss: 1.5209e-05 - val_f1_m: 1.0000\n",
      "model trained in 2.3840922753016156 minutes\n"
     ]
    }
   ],
   "source": [
    "start = time.time()\n",
    "\n",
    "model.compile(\n",
    "    optimizer=keras.optimizers.Adam(1e-3),\n",
    "    loss=\"binary_crossentropy\",\n",
    "    metrics=[f1_m],\n",
    ")\n",
    "model.fit(\n",
    "    train_data3[0],\n",
    "    epochs=20,\n",
    "    validation_data=train_data3[1],\n",
    ")\n",
    "print(f\"model trained in {(time.time()-start)/60} minutes\")"
   ]
  },
  {
   "cell_type": "code",
   "execution_count": 67,
   "id": "26d843fa-e101-4c73-93e4-085a2a70aaf3",
   "metadata": {
    "tags": []
   },
   "outputs": [
    {
     "name": "stdout",
     "output_type": "stream",
     "text": [
      "90/90 [==============================] - 3s 34ms/step - loss: 0.0147 - f1_m: 0.9986\n"
     ]
    }
   ],
   "source": [
    "test_1_score = model.evaluate(test_data3)[1]"
   ]
  },
  {
   "cell_type": "code",
   "execution_count": 71,
   "id": "80d872bf-b6b4-4213-887a-8893bfdcf950",
   "metadata": {
    "tags": []
   },
   "outputs": [
    {
     "name": "stdout",
     "output_type": "stream",
     "text": [
      "Test score:\n",
      "average F1 score 0.9986110925674438\n"
     ]
    }
   ],
   "source": [
    "print('Test score:')\n",
    "print(f\"average F1 score {test_1_score}\")"
   ]
  },
  {
   "cell_type": "code",
   "execution_count": 69,
   "id": "c7a4db87-ac80-439b-9274-a9b0dde3d8cd",
   "metadata": {
    "tags": []
   },
   "outputs": [],
   "source": [
    "# model.evaluate(test2_data3)"
   ]
  }
 ],
 "metadata": {
  "kernelspec": {
   "display_name": "Python 3 (ipykernel)",
   "language": "python",
   "name": "python3"
  },
  "language_info": {
   "codemirror_mode": {
    "name": "ipython",
    "version": 3
   },
   "file_extension": ".py",
   "mimetype": "text/x-python",
   "name": "python",
   "nbconvert_exporter": "python",
   "pygments_lexer": "ipython3",
   "version": "3.9.16"
  }
 },
 "nbformat": 4,
 "nbformat_minor": 5
}
